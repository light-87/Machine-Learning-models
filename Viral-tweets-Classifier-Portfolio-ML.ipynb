{
 "cells": [
  {
   "cell_type": "markdown",
   "metadata": {},
   "source": [
    "# Viral Tweets\n",
    "\n",
    "In this project, we are going to use the K-Nearest Neighbor algorithm to predict whether a tweet will go viral. Before jumping into using the classifier, let's first consider the problem we're trying to solve. Which features of a tweet are most closely linked to its popularity? Maybe the number of hashtags or the number of links in the tweet strongly influences its popularity. Maybe its virality is dependent on how many followers the person has. Maybe it's something more subtle like the specific language used in the tweets."
   ]
  },
  {
   "cell_type": "code",
   "execution_count": 29,
   "metadata": {},
   "outputs": [
    {
     "name": "stdout",
     "output_type": "stream",
     "text": [
      "11099\n",
      "Index(['created_at', 'id', 'id_str', 'text', 'truncated', 'entities',\n",
      "       'metadata', 'source', 'in_reply_to_status_id',\n",
      "       'in_reply_to_status_id_str', 'in_reply_to_user_id',\n",
      "       'in_reply_to_user_id_str', 'in_reply_to_screen_name', 'user', 'geo',\n",
      "       'coordinates', 'place', 'contributors', 'retweeted_status',\n",
      "       'is_quote_status', 'retweet_count', 'favorite_count', 'favorited',\n",
      "       'retweeted', 'lang', 'possibly_sensitive', 'quoted_status_id',\n",
      "       'quoted_status_id_str', 'extended_entities', 'quoted_status',\n",
      "       'withheld_in_countries'],\n",
      "      dtype='object')\n",
      "@Liquidachi Oh waittttt I found it 👀\n",
      "User {'id': 559880125, 'id_str': '559880125', 'name': 'LA', 'screen_name': 'The_Real_LA2', 'location': 'San Antonio, Texas', 'description': \"Alah and rowdy are words I use on the daily. Don't mistake my kindness for loveness. Welcome to mi vida loca in 140 characters. One tweet at a time.\", 'url': None, 'entities': {'description': {'urls': []}}, 'protected': False, 'followers_count': 488, 'friends_count': 738, 'listed_count': 10, 'created_at': 'Sat Apr 21 21:32:04 +0000 2012', 'favourites_count': 521, 'utc_offset': None, 'time_zone': None, 'geo_enabled': False, 'verified': False, 'statuses_count': 39137, 'lang': 'en', 'contributors_enabled': False, 'is_translator': False, 'is_translation_enabled': False, 'profile_background_color': 'ACDED6', 'profile_background_image_url': 'http://abs.twimg.com/images/themes/theme18/bg.gif', 'profile_background_image_url_https': 'https://abs.twimg.com/images/themes/theme18/bg.gif', 'profile_background_tile': False, 'profile_image_url': 'http://pbs.twimg.com/profile_images/1006725892431929347/pwJ6vMu2_normal.jpg', 'profile_image_url_https': 'https://pbs.twimg.com/profile_images/1006725892431929347/pwJ6vMu2_normal.jpg', 'profile_banner_url': 'https://pbs.twimg.com/profile_banners/559880125/1354123603', 'profile_link_color': '038543', 'profile_sidebar_border_color': 'EEEEEE', 'profile_sidebar_fill_color': 'F6F6F6', 'profile_text_color': '333333', 'profile_use_background_image': True, 'has_extended_profile': False, 'default_profile': False, 'default_profile_image': False, 'following': False, 'follow_request_sent': False, 'notifications': False, 'translator_type': 'none'}\n",
      "User coordinates None\n",
      "User {'hashtags': [], 'symbols': [], 'user_mentions': [{'screen_name': 'Liquidachi', 'name': '🅻🆄🅽🅰', 'id': 1960659194, 'id_str': '1960659194', 'indices': [0, 11]}], 'urls': []}\n"
     ]
    }
   ],
   "source": [
    "import pandas as pd\n",
    "\n",
    "all_tweets = pd.read_json(\"random_tweets.json\", lines=True)\n",
    "\n",
    "print(len(all_tweets))\n",
    "print(all_tweets.columns)\n",
    "print(all_tweets.loc[25]['text'])\n",
    "print(\"User\",all_tweets.loc[25]['user'])\n",
    "print(\"User coordinates\",all_tweets.loc[25]['coordinates'])\n",
    "print(\"User\",all_tweets.loc[25]['entities'])\n",
    "# print(all_tweets.info())\n",
    "\n",
    "# all_tweets.head()"
   ]
  },
  {
   "cell_type": "markdown",
   "metadata": {},
   "source": [
    "# Defining Viral Tweets\n",
    "\n",
    "A K-Nearest Neighbor classifier is a supervised machine learning algorithm, and as a result, we need to have a dataset with tagged labels. For this specific example, we need a dataset where every tweet is marked as viral or not viral. Unfortunately, this isn't a feature of our dataset &mdash; we'll need to make it ourselves.\n",
    "\n",
    "So how do we define a viral tweet? A good place to start is to look at the number of retweets the tweet has. This can be found using the feature `\"retweet_count\"`. we wanted to create a column called `is_viral` that is a `1` if the tweet had more than `13` retweets and `0` otherwise. We could do that like this:\n"
   ]
  },
  {
   "cell_type": "code",
   "execution_count": 32,
   "metadata": {},
   "outputs": [
    {
     "name": "stdout",
     "output_type": "stream",
     "text": [
      "13.0\n",
      "Number of Viral tweets in our dataset is 5591\n"
     ]
    }
   ],
   "source": [
    "import numpy as np\n",
    "print(np.median(all_tweets['retweet_count']))\n",
    "all_tweets['is_viral'] = all_tweets.retweet_count.apply(lambda x : 1 if x >= 13 else 0)\n",
    "print('Number of Viral tweets in our dataset is',sum(all_tweets['is_viral']))"
   ]
  },
  {
   "cell_type": "markdown",
   "metadata": {},
   "source": [
    "# Making Features\n",
    "\n",
    "Now that we've created a label for every tweet in our dataset, we can begin thinking about which features might determine whether a tweet is viral. We can create new columns in our dataset to represent these features. For example, let's say we think the length of a tweet might be a valuable feature.Follower Count , Friends Count , Hastag Count , Links Counts etc. are all potential features for viral tweet"
   ]
  },
  {
   "cell_type": "code",
   "execution_count": 33,
   "metadata": {},
   "outputs": [],
   "source": [
    "all_tweets['tweet_length'] = all_tweets.apply(lambda x: len(x['text']), axis=1)\n",
    "all_tweets['followers_count'] = all_tweets['user'].apply(lambda x :x['followers_count'])\n",
    "all_tweets['friends_count'] = all_tweets['user'].apply(lambda x :x['friends_count'])\n",
    "all_tweets['Hashtag_count'] = all_tweets.apply(lambda x: x['text'].count('#'), axis=1)\n",
    "all_tweets['Links_count'] = all_tweets.apply(lambda x: x['text'].count('http'), axis=1)"
   ]
  },
  {
   "cell_type": "markdown",
   "metadata": {},
   "source": [
    "# Creating the Training Set and Test Set\n"
   ]
  },
  {
   "cell_type": "code",
   "execution_count": 40,
   "metadata": {},
   "outputs": [],
   "source": [
    "from sklearn.model_selection import train_test_split\n",
    "\n",
    "labels = all_tweets['is_viral']\n",
    "features = all_tweets[['tweet_length','followers_count','friends_count','Hashtag_count','Links_count']]\n",
    "\n",
    "train_features,test_features,train_labels,test_labels = train_test_split(features,labels,random_state=12,test_size=0.2)"
   ]
  },
  {
   "cell_type": "markdown",
   "metadata": {},
   "source": [
    "# Normalizing The Data\n"
   ]
  },
  {
   "cell_type": "code",
   "execution_count": 41,
   "metadata": {},
   "outputs": [],
   "source": [
    "from sklearn.preprocessing import StandardScaler\n",
    "scaler = StandardScaler()\n",
    "scaled_train_features = scaler.fit_transform(train_features)\n",
    "scaled_test_features = scaler.transform(test_features)"
   ]
  },
  {
   "cell_type": "markdown",
   "metadata": {},
   "source": [
    "# Using the Classifier\n"
   ]
  },
  {
   "cell_type": "code",
   "execution_count": 43,
   "metadata": {},
   "outputs": [
    {
     "name": "stdout",
     "output_type": "stream",
     "text": [
      "0.7135135135135136\n"
     ]
    }
   ],
   "source": [
    "from sklearn.neighbors import KNeighborsClassifier\n",
    "# Base Model\n",
    "classifier = KNeighborsClassifier(n_neighbors = 5)\n",
    "classifier.fit(scaled_train_features,train_labels)\n",
    "print(classifier.score(scaled_test_features,test_labels))"
   ]
  },
  {
   "cell_type": "markdown",
   "metadata": {},
   "source": [
    "# Choosing K\n"
   ]
  },
  {
   "cell_type": "code",
   "execution_count": 48,
   "metadata": {},
   "outputs": [
    {
     "name": "stdout",
     "output_type": "stream",
     "text": [
      "1 0.6675675675675675\n",
      "2 0.6554054054054054\n",
      "3 0.7027027027027027\n",
      "4 0.6959459459459459\n",
      "5 0.7135135135135136\n",
      "6 0.7153153153153153\n",
      "7 0.727027027027027\n",
      "8 0.7297297297297297\n",
      "9 0.7297297297297297\n",
      "10 0.7324324324324324\n",
      "11 0.7324324324324324\n",
      "12 0.7261261261261261\n",
      "13 0.7364864864864865\n",
      "14 0.7297297297297297\n",
      "15 0.7265765765765766\n",
      "16 0.7261261261261261\n",
      "17 0.7315315315315315\n",
      "18 0.727027027027027\n",
      "19 0.7301801801801802\n"
     ]
    },
    {
     "data": {
      "text/plain": [
       "Text(0.5, 1.0, 'Choosing Best K value')"
      ]
     },
     "execution_count": 48,
     "metadata": {},
     "output_type": "execute_result"
    },
    {
     "data": {
      "image/png": "[encoded data removed]",
      "text/plain": [
       "<Figure size 432x288 with 1 Axes>"
      ]
     },
     "metadata": {
      "needs_background": "light"
     },
     "output_type": "display_data"
    }
   ],
   "source": [
    "import matplotlib.pyplot as plt\n",
    "import seaborn as sns\n",
    "score = []\n",
    "for k in range(1,20):\n",
    "    classifier = KNeighborsClassifier(n_neighbors = k)\n",
    "    classifier.fit(scaled_train_features,train_labels)\n",
    "    score.append(classifier.score(scaled_test_features,test_labels))\n",
    "    print(k,classifier.score(scaled_test_features,test_labels))\n",
    "    \n",
    "sns.lineplot(x=range(1,20),y=score)    \n",
    "plt.xlabel('Neighbors')\n",
    "plt.ylabel('Accuracy')\n",
    "plt.title('Choosing Best K value')"
   ]
  },
  {
   "cell_type": "markdown",
   "metadata": {},
   "source": [
    "We can see that k =13 has most accuracy 73.64% .\n",
    "\n",
    "# Final Model"
   ]
  },
  {
   "cell_type": "code",
   "execution_count": 49,
   "metadata": {},
   "outputs": [
    {
     "name": "stdout",
     "output_type": "stream",
     "text": [
      "0.7364864864864865\n"
     ]
    }
   ],
   "source": [
    "classifier_final = KNeighborsClassifier(n_neighbors = 13)\n",
    "classifier_final.fit(scaled_train_features,train_labels)\n",
    "print(classifier_final.score(scaled_test_features,test_labels))"
   ]
  }
 ],
 "metadata": {
  "kernelspec": {
   "display_name": "Python 3",
   "language": "python",
   "name": "python3"
  },
  "language_info": {
   "codemirror_mode": {
    "name": "ipython",
    "version": 3
   },
   "file_extension": ".py",
   "mimetype": "text/x-python",
   "name": "python",
   "nbconvert_exporter": "python",
   "pygments_lexer": "ipython3",
   "version": "3.8.8"
  }
 },
 "nbformat": 4,
 "nbformat_minor": 2
}

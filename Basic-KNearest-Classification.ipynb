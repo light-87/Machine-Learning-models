{
 "cells": [
  {
   "cell_type": "markdown",
   "id": "79ea4e30",
   "metadata": {},
   "source": [
    "## Breast Cancer Classifier\n",
    "In this project, we will be using several Python libraries to make a K-Nearest Neighbor classifier that is trained to predict whether a patient has breast cancer."
   ]
  },
  {
   "cell_type": "markdown",
   "id": "79043369",
   "metadata": {},
   "source": [
    "Let’s begin by importing the breast cancer data from sklearn. We want to import the function load_breast_cancer from sklearn.datasets."
   ]
  },
  {
   "cell_type": "code",
   "execution_count": 26,
   "id": "d78f002d",
   "metadata": {},
   "outputs": [],
   "source": [
    "import pandas as pd\n",
    "from sklearn.datasets import load_breast_cancer\n",
    "from sklearn.model_selection import train_test_split\n",
    "from sklearn.neighbors import KNeighborsClassifier\n",
    "from matplotlib import pyplot as plt\n",
    "import seaborn as sns"
   ]
  },
  {
   "cell_type": "code",
   "execution_count": 12,
   "id": "05a6215c",
   "metadata": {},
   "outputs": [
    {
     "name": "stdout",
     "output_type": "stream",
     "text": [
      "[1.799e+01 1.038e+01 1.228e+02 1.001e+03 1.184e-01 2.776e-01 3.001e-01\n",
      " 1.471e-01 2.419e-01 7.871e-02 1.095e+00 9.053e-01 8.589e+00 1.534e+02\n",
      " 6.399e-03 4.904e-02 5.373e-02 1.587e-02 3.003e-02 6.193e-03 2.538e+01\n",
      " 1.733e+01 1.846e+02 2.019e+03 1.622e-01 6.656e-01 7.119e-01 2.654e-01\n",
      " 4.601e-01 1.189e-01]\n",
      "[0 0 0 0 0 0 0 0 0 0 0 0 0 0 0 0 0 0 0 1 1 1 0 0 0 0 0 0 0 0 0 0 0 0 0 0 0\n",
      " 1 0 0 0 0 0 0 0 0 1 0 1 1 1 1 1 0 0 1 0 0 1 1 1 1 0 1 0 0 1 1 1 1 0 1 0 0\n",
      " 1 0 1 0 0 1 1 1 0 0 1 0 0 0 1 1 1 0 1 1 0 0 1 1 1 0 0 1 1 1 1 0 1 1 0 1 1\n",
      " 1 1 1 1 1 1 0 0 0 1 0 0 1 1 1 0 0 1 0 1 0 0 1 0 0 1 1 0 1 1 0 1 1 1 1 0 1\n",
      " 1 1 1 1 1 1 1 1 0 1 1 1 1 0 0 1 0 1 1 0 0 1 1 0 0 1 1 1 1 0 1 1 0 0 0 1 0\n",
      " 1 0 1 1 1 0 1 1 0 0 1 0 0 0 0 1 0 0 0 1 0 1 0 1 1 0 1 0 0 0 0 1 1 0 0 1 1\n",
      " 1 0 1 1 1 1 1 0 0 1 1 0 1 1 0 0 1 0 1 1 1 1 0 1 1 1 1 1 0 1 0 0 0 0 0 0 0\n",
      " 0 0 0 0 0 0 0 1 1 1 1 1 1 0 1 0 1 1 0 1 1 0 1 0 0 1 1 1 1 1 1 1 1 1 1 1 1\n",
      " 1 0 1 1 0 1 0 1 1 1 1 1 1 1 1 1 1 1 1 1 1 0 1 1 1 0 1 0 1 1 1 1 0 0 0 1 1\n",
      " 1 1 0 1 0 1 0 1 1 1 0 1 1 1 1 1 1 1 0 0 0 1 1 1 1 1 1 1 1 1 1 1 0 0 1 0 0\n",
      " 0 1 0 0 1 1 1 1 1 0 1 1 1 1 1 0 1 1 1 0 1 1 0 0 1 1 1 1 1 1 0 1 1 1 1 1 1\n",
      " 1 0 1 1 1 1 1 0 1 1 0 1 1 1 1 1 1 1 1 1 1 1 1 0 1 0 0 1 0 1 1 1 1 1 0 1 1\n",
      " 0 1 0 1 1 0 1 0 1 1 1 1 1 1 1 1 0 0 1 1 1 1 1 1 0 1 1 1 1 1 1 1 1 1 1 0 1\n",
      " 1 1 1 1 1 1 0 1 0 1 1 0 1 1 1 1 1 0 0 1 0 1 0 1 1 1 1 1 0 1 1 0 1 0 1 0 0\n",
      " 1 1 1 0 1 1 1 1 1 1 1 1 1 1 1 0 1 0 0 1 1 1 1 1 1 1 1 1 1 1 1 1 1 1 1 1 1\n",
      " 1 1 1 1 1 1 1 0 0 0 0 0 0 1]\n",
      "['malignant' 'benign']\n"
     ]
    }
   ],
   "source": [
    "df = load_breast_cancer()\n",
    "print(df.data[0])\n",
    "# That’s the first datapoint in our set\n",
    "print(df.target)\n",
    "print(df.target_names)\n"
   ]
  },
  {
   "cell_type": "markdown",
   "id": "175f234a",
   "metadata": {},
   "source": [
    "By looking at the target_names, we know that 0 corresponds to malignant and 1 correspond to benign which we are trying to classify.\n",
    "\n",
    "# Splitting the data into Training and Validation Sets"
   ]
  },
  {
   "cell_type": "code",
   "execution_count": 17,
   "id": "31e331cb",
   "metadata": {},
   "outputs": [],
   "source": [
    "X= df.data\n",
    "y= df.target\n",
    "train_x,test_x,train_y,test_y = train_test_split(X,y,test_size=0.2,random_state=10)"
   ]
  },
  {
   "cell_type": "markdown",
   "id": "f48f139f",
   "metadata": {},
   "source": [
    "# Running the classifier"
   ]
  },
  {
   "cell_type": "code",
   "execution_count": 24,
   "id": "f7b2859c",
   "metadata": {},
   "outputs": [
    {
     "name": "stdout",
     "output_type": "stream",
     "text": [
      "1 0.9385964912280702\n",
      "2 0.9210526315789473\n",
      "3 0.9210526315789473\n",
      "4 0.9210526315789473\n",
      "5 0.9210526315789473\n",
      "6 0.9298245614035088\n",
      "7 0.9298245614035088\n",
      "8 0.9298245614035088\n",
      "9 0.9298245614035088\n",
      "10 0.9298245614035088\n",
      "11 0.9210526315789473\n",
      "12 0.9210526315789473\n",
      "13 0.9298245614035088\n",
      "14 0.9298245614035088\n",
      "15 0.9210526315789473\n",
      "16 0.9210526315789473\n",
      "17 0.9298245614035088\n",
      "18 0.9298245614035088\n",
      "19 0.9122807017543859\n",
      "20 0.9122807017543859\n",
      "21 0.9122807017543859\n",
      "22 0.9122807017543859\n",
      "23 0.9122807017543859\n",
      "24 0.9122807017543859\n",
      "25 0.9122807017543859\n",
      "26 0.9122807017543859\n",
      "27 0.9122807017543859\n",
      "28 0.9122807017543859\n",
      "29 0.9122807017543859\n",
      "30 0.9122807017543859\n",
      "31 0.9122807017543859\n",
      "32 0.9122807017543859\n",
      "33 0.9122807017543859\n",
      "34 0.9122807017543859\n",
      "35 0.9210526315789473\n",
      "36 0.9210526315789473\n",
      "37 0.9122807017543859\n",
      "38 0.9122807017543859\n",
      "39 0.9035087719298246\n",
      "40 0.9210526315789473\n",
      "41 0.9122807017543859\n",
      "42 0.9122807017543859\n",
      "43 0.9035087719298246\n",
      "44 0.9122807017543859\n",
      "45 0.9122807017543859\n",
      "46 0.9122807017543859\n",
      "47 0.9122807017543859\n",
      "48 0.9210526315789473\n",
      "49 0.9122807017543859\n",
      "50 0.9210526315789473\n",
      "51 0.9122807017543859\n",
      "52 0.9122807017543859\n",
      "53 0.9122807017543859\n",
      "54 0.9122807017543859\n",
      "55 0.9122807017543859\n",
      "56 0.9122807017543859\n",
      "57 0.9035087719298246\n",
      "58 0.9122807017543859\n",
      "59 0.9035087719298246\n",
      "60 0.9035087719298246\n",
      "61 0.8947368421052632\n",
      "62 0.8947368421052632\n",
      "63 0.8947368421052632\n",
      "64 0.9035087719298246\n",
      "65 0.8947368421052632\n",
      "66 0.9035087719298246\n",
      "67 0.8947368421052632\n",
      "68 0.8947368421052632\n",
      "69 0.8947368421052632\n",
      "70 0.8947368421052632\n",
      "71 0.8947368421052632\n",
      "72 0.8947368421052632\n",
      "73 0.8947368421052632\n",
      "74 0.8947368421052632\n",
      "75 0.8947368421052632\n",
      "76 0.8947368421052632\n",
      "77 0.8947368421052632\n",
      "78 0.8947368421052632\n",
      "79 0.8947368421052632\n",
      "80 0.8947368421052632\n",
      "81 0.8859649122807017\n",
      "82 0.8947368421052632\n",
      "83 0.8947368421052632\n",
      "84 0.8947368421052632\n",
      "85 0.8947368421052632\n",
      "86 0.8947368421052632\n",
      "87 0.8947368421052632\n",
      "88 0.8947368421052632\n",
      "89 0.8947368421052632\n",
      "90 0.8947368421052632\n",
      "91 0.8947368421052632\n",
      "92 0.8947368421052632\n",
      "93 0.8859649122807017\n",
      "94 0.8859649122807017\n",
      "95 0.8859649122807017\n",
      "96 0.8859649122807017\n",
      "97 0.8859649122807017\n",
      "98 0.8859649122807017\n",
      "99 0.8859649122807017\n"
     ]
    }
   ],
   "source": [
    "# Selecting best Number of neighbors\n",
    "score = []\n",
    "for k in range(1,100):\n",
    "    classifier = KNeighborsClassifier(n_neighbors = k)\n",
    "    classifier.fit(train_x,train_y)\n",
    "    score.append(classifier.score(test_x,test_y))\n",
    "    print(k,classifier.score(test_x,test_y))\n",
    "    "
   ]
  },
  {
   "cell_type": "code",
   "execution_count": 28,
   "id": "c76f0522",
   "metadata": {},
   "outputs": [
    {
     "data": {
      "text/plain": [
       "Text(0.5, 1.0, 'Finding Best k value')"
      ]
     },
     "execution_count": 28,
     "metadata": {},
     "output_type": "execute_result"
    },
    {
     "data": {
      "image/png": "[encoded data removed]",
      "text/plain": [
       "<Figure size 432x288 with 1 Axes>"
      ]
     },
     "metadata": {
      "needs_background": "light"
     },
     "output_type": "display_data"
    }
   ],
   "source": [
    "sns.lineplot(x=range(1,100),y=score)\n",
    "plt.xlabel('Number of Neighbors')\n",
    "plt.ylabel('Accuracy')\n",
    "plt.title('Finding Best k value')"
   ]
  },
  {
   "cell_type": "markdown",
   "id": "b1fb25bf",
   "metadata": {},
   "source": [
    "By looking at the plot and score value it seems that 6 is the best number of neighbors we have.\n",
    "\n",
    "So,making our Final classifier with 6 neighbors"
   ]
  },
  {
   "cell_type": "code",
   "execution_count": 29,
   "id": "2608c656",
   "metadata": {},
   "outputs": [
    {
     "name": "stdout",
     "output_type": "stream",
     "text": [
      "99 0.9298245614035088\n"
     ]
    }
   ],
   "source": [
    "classifier = KNeighborsClassifier(n_neighbors = 6)\n",
    "classifier.fit(train_x,train_y)\n",
    "score.append(classifier.score(test_x,test_y))\n",
    "print(k,classifier.score(test_x,test_y))"
   ]
  }
 ],
 "metadata": {
  "kernelspec": {
   "display_name": "Python 3",
   "language": "python",
   "name": "python3"
  },
  "language_info": {
   "codemirror_mode": {
    "name": "ipython",
    "version": 3
   },
   "file_extension": ".py",
   "mimetype": "text/x-python",
   "name": "python",
   "nbconvert_exporter": "python",
   "pygments_lexer": "ipython3",
   "version": "3.8.8"
  }
 },
 "nbformat": 4,
 "nbformat_minor": 5
}

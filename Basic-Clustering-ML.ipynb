{
 "cells": [
  {
   "cell_type": "markdown",
   "id": "7ffb1d49",
   "metadata": {},
   "source": [
    "# Handwriting Recognition using K-Means\n",
    "\n",
    "The U.S. Postal Service has been using machine learning and scanning technologies since 1999. Because its postal offices have to look at roughly half a billion pieces of mail every day, they have done extensive research and developed very efficient algorithms for reading and understanding addresses. And not only the post office:\n",
    "\n",
    "ATMs can recognize handwritten bank checks\n",
    "\n",
    "Evernote can recognize handwritten task lists\n",
    "\n",
    "Expensify can recognize handwritten receipts\n",
    "\n",
    "In this project, we will be using K-means clustering (the algorithm behind this magic) and scikit-learn to cluster images of handwritten digits."
   ]
  },
  {
   "cell_type": "code",
   "execution_count": 23,
   "id": "29659286",
   "metadata": {},
   "outputs": [],
   "source": [
    "import pandas as pd\n",
    "from sklearn import datasets\n",
    "from matplotlib import pyplot as plt\n",
    "from sklearn.cluster import KMeans\n",
    "import numpy as np"
   ]
  },
  {
   "cell_type": "markdown",
   "id": "2df3bb67",
   "metadata": {},
   "source": [
    "# Investigating Dataset"
   ]
  },
  {
   "cell_type": "code",
   "execution_count": 9,
   "id": "6ca40ca1",
   "metadata": {},
   "outputs": [
    {
     "name": "stdout",
     "output_type": "stream",
     "text": [
      ".. _digits_dataset:\n",
      "\n",
      "Optical recognition of handwritten digits dataset\n",
      "--------------------------------------------------\n",
      "\n",
      "**Data Set Characteristics:**\n",
      "\n",
      "    :Number of Instances: 1797\n",
      "    :Number of Attributes: 64\n",
      "    :Attribute Information: 8x8 image of integer pixels in the range 0..16.\n",
      "    :Missing Attribute Values: None\n",
      "    :Creator: E. Alpaydin (alpaydin '@' boun.edu.tr)\n",
      "    :Date: July; 1998\n",
      "\n",
      "This is a copy of the test set of the UCI ML hand-written digits datasets\n",
      "https://archive.ics.uci.edu/ml/datasets/Optical+Recognition+of+Handwritten+Digits\n",
      "\n",
      "The data set contains images of hand-written digits: 10 classes where\n",
      "each class refers to a digit.\n",
      "\n",
      "Preprocessing programs made available by NIST were used to extract\n",
      "normalized bitmaps of handwritten digits from a preprinted form. From a\n",
      "total of 43 people, 30 contributed to the training set and different 13\n",
      "to the test set. 32x32 bitmaps are divided into nonoverlapping blocks of\n",
      "4x4 and the number of on pixels are counted in each block. This generates\n",
      "an input matrix of 8x8 where each element is an integer in the range\n",
      "0..16. This reduces dimensionality and gives invariance to small\n",
      "distortions.\n",
      "\n",
      "For info on NIST preprocessing routines, see M. D. Garris, J. L. Blue, G.\n",
      "T. Candela, D. L. Dimmick, J. Geist, P. J. Grother, S. A. Janet, and C.\n",
      "L. Wilson, NIST Form-Based Handprint Recognition System, NISTIR 5469,\n",
      "1994.\n",
      "\n",
      ".. topic:: References\n",
      "\n",
      "  - C. Kaynak (1995) Methods of Combining Multiple Classifiers and Their\n",
      "    Applications to Handwritten Digit Recognition, MSc Thesis, Institute of\n",
      "    Graduate Studies in Science and Engineering, Bogazici University.\n",
      "  - E. Alpaydin, C. Kaynak (1998) Cascading Classifiers, Kybernetika.\n",
      "  - Ken Tang and Ponnuthurai N. Suganthan and Xi Yao and A. Kai Qin.\n",
      "    Linear dimensionalityreduction using relevance weighted LDA. School of\n",
      "    Electrical and Electronic Engineering Nanyang Technological University.\n",
      "    2005.\n",
      "  - Claudio Gentile. A New Approximate Maximal Margin Classification\n",
      "    Algorithm. NIPS. 2000.\n",
      "\n"
     ]
    }
   ],
   "source": [
    "digits = datasets.load_digits() \n",
    "print(digits.DESCR)"
   ]
  },
  {
   "cell_type": "code",
   "execution_count": 11,
   "id": "c98ec8a4",
   "metadata": {},
   "outputs": [
    {
     "name": "stdout",
     "output_type": "stream",
     "text": [
      "[[ 0.  0.  5. ...  0.  0.  0.]\n",
      " [ 0.  0.  0. ... 10.  0.  0.]\n",
      " [ 0.  0.  0. ... 16.  9.  0.]\n",
      " ...\n",
      " [ 0.  0.  1. ...  6.  0.  0.]\n",
      " [ 0.  0.  2. ... 12.  0.  0.]\n",
      " [ 0.  0. 10. ... 12.  1.  0.]]\n",
      "[0 1 2 ... 8 9 8]\n"
     ]
    }
   ],
   "source": [
    "print(digits.data)\n",
    "print(digits.target)"
   ]
  },
  {
   "cell_type": "code",
   "execution_count": 17,
   "id": "6d97a35e",
   "metadata": {},
   "outputs": [
    {
     "name": "stdout",
     "output_type": "stream",
     "text": [
      "4\n",
      "8\n"
     ]
    },
    {
     "data": {
      "image/png": "[encoded data removed]",
      "text/plain": [
       "<Figure size 288x288 with 1 Axes>"
      ]
     },
     "metadata": {
      "needs_background": "light"
     },
     "output_type": "display_data"
    },
    {
     "data": {
      "image/png": "[encoded data removed]",
      "text/plain": [
       "<Figure size 288x288 with 1 Axes>"
      ]
     },
     "metadata": {
      "needs_background": "light"
     },
     "output_type": "display_data"
    }
   ],
   "source": [
    "#  visualize the data images\n",
    "plt.matshow(digits.images[100])\n",
    "print(digits.target[100])\n",
    "\n",
    "plt.matshow(digits.images[122])\n",
    "print(digits.target[122])"
   ]
  },
  {
   "cell_type": "markdown",
   "id": "a12d42d8",
   "metadata": {},
   "source": [
    " # Making Our Model"
   ]
  },
  {
   "cell_type": "code",
   "execution_count": 40,
   "id": "097857da",
   "metadata": {},
   "outputs": [
    {
     "data": {
      "text/plain": [
       "KMeans(n_clusters=10, random_state=10)"
      ]
     },
     "execution_count": 40,
     "metadata": {},
     "output_type": "execute_result"
    }
   ],
   "source": [
    "model = KMeans(n_clusters = 10,random_state =10)\n",
    "model.fit(digits.data)"
   ]
  },
  {
   "cell_type": "code",
   "execution_count": 41,
   "id": "1f1a6e8e",
   "metadata": {},
   "outputs": [
    {
     "data": {
      "image/png": "[encoded data removed]",
      "text/plain": [
       "<Figure size 432x288 with 1 Axes>"
      ]
     },
     "metadata": {
      "needs_background": "light"
     },
     "output_type": "display_data"
    },
    {
     "data": {
      "image/png": "[encoded data removed]",
      "text/plain": [
       "<Figure size 432x288 with 1 Axes>"
      ]
     },
     "metadata": {
      "needs_background": "light"
     },
     "output_type": "display_data"
    },
    {
     "data": {
      "image/png": "[encoded data removed]",
      "text/plain": [
       "<Figure size 432x288 with 1 Axes>"
      ]
     },
     "metadata": {
      "needs_background": "light"
     },
     "output_type": "display_data"
    },
    {
     "data": {
      "image/png": "[encoded data removed]",
      "text/plain": [
       "<Figure size 432x288 with 1 Axes>"
      ]
     },
     "metadata": {
      "needs_background": "light"
     },
     "output_type": "display_data"
    },
    {
     "data": {
      "image/png": "[encoded data removed]",
      "text/plain": [
       "<Figure size 432x288 with 1 Axes>"
      ]
     },
     "metadata": {
      "needs_background": "light"
     },
     "output_type": "display_data"
    },
    {
     "data": {
      "image/png": "[encoded data removed]",
      "text/plain": [
       "<Figure size 432x288 with 1 Axes>"
      ]
     },
     "metadata": {
      "needs_background": "light"
     },
     "output_type": "display_data"
    },
    {
     "data": {
      "image/png": "[encoded data removed]",
      "text/plain": [
       "<Figure size 432x288 with 1 Axes>"
      ]
     },
     "metadata": {
      "needs_background": "light"
     },
     "output_type": "display_data"
    },
    {
     "data": {
      "image/png": "[encoded data removed]",
      "text/plain": [
       "<Figure size 432x288 with 1 Axes>"
      ]
     },
     "metadata": {
      "needs_background": "light"
     },
     "output_type": "display_data"
    },
    {
     "data": {
      "image/png": "[encoded data removed]",
      "text/plain": [
       "<Figure size 432x288 with 1 Axes>"
      ]
     },
     "metadata": {
      "needs_background": "light"
     },
     "output_type": "display_data"
    },
    {
     "data": {
      "image/png": "[encoded data removed]",
      "text/plain": [
       "<Figure size 432x288 with 1 Axes>"
      ]
     },
     "metadata": {
      "needs_background": "light"
     },
     "output_type": "display_data"
    }
   ],
   "source": [
    "for i in range(10):\n",
    "  fig = plt.figure()  \n",
    "  # Initialize subplots in a grid of 2X5, at i+1th position\n",
    "  ax = fig.add_subplot(2, 5, 1 + i)\n",
    " \n",
    "  # Display images\n",
    "  ax.imshow(model.cluster_centers_[i].reshape((8, 8)), cmap=plt.cm.binary)"
   ]
  },
  {
   "cell_type": "markdown",
   "id": "3a1890bd",
   "metadata": {},
   "source": [
    "These are the centroids of handwriting from thirty different people collected by Bogazici University (Istanbul, Turkey):\n",
    "\n",
    "Index 0 looks like 8\n",
    "\n",
    "Index 1 looks like 4\n",
    "\n",
    "Index 2 looks like 0\n",
    "\n",
    "Index 3 looks like 6\n",
    "\n",
    "Index 4 looks like 9\n",
    "\n",
    "Index 5 looks like 3\n",
    "\n",
    "Index 6 looks like 2\n",
    "\n",
    "Index 7 looks like 1\n",
    "\n",
    "Index 8 looks like 5\n",
    "\n",
    "Index 9 looks like 7"
   ]
  },
  {
   "cell_type": "markdown",
   "id": "a679a63f",
   "metadata": {},
   "source": [
    "# Testing Your Model\n",
    "\n"
   ]
  },
  {
   "cell_type": "code",
   "execution_count": 36,
   "id": "601c34bb",
   "metadata": {},
   "outputs": [
    {
     "name": "stdout",
     "output_type": "stream",
     "text": [
      "5\n",
      "7\n",
      "2\n",
      "9\n"
     ]
    }
   ],
   "source": [
    "#  let’s map out each of the labels with the digits we think it represents:\n",
    "new_labels = [8, 9, 6, 4]\n",
    "for i in range(len(new_labels)):\n",
    "  if new_labels[i] == 0:\n",
    "    print(8)\n",
    "  elif new_labels[i] == 1:\n",
    "    print(4)\n",
    "  elif new_labels[i] == 2:\n",
    "    print(0)\n",
    "  elif new_labels[i] == 3:\n",
    "    print(6)\n",
    "  elif new_labels[i] == 4:\n",
    "    print(9)\n",
    "  elif new_labels[i] == 5:\n",
    "    print(3)\n",
    "  elif new_labels[i] == 6:\n",
    "    print(2)\n",
    "  elif new_labels[i] == 7:\n",
    "    print(1)\n",
    "  elif new_labels[i] == 8:\n",
    "    print(5)\n",
    "  elif new_labels[i] == 9:\n",
    "    print(7)"
   ]
  },
  {
   "cell_type": "markdown",
   "id": "6581a1ea",
   "metadata": {},
   "source": [
    "# We have some new sample\n",
    "for 1,9,5,1 =  [\n",
    "[0.00,0.00,0.08,0.93,0.00,0.00,0.00,0.00,0.00,0.00,1.60,6.66,0.00,0.00,0.00,0.00,0.00,0.00,1.68,6.74,0.00,0.00,0.00,0.00,0.00,0.00,2.61,6.65,6.91,0.92,0.00,0.00,0.00,0.00,4.72,7.67,8.42,4.04,0.00,0.00,0.00,0.00,2.61,3.53,3.70,6.40,0.00,0.00,0.00,0.00,0.00,0.00,2.61,6.40,0.00,0.00,0.00,0.00,0.00,0.00,0.00,0.00,0.00,0.00],\n",
    "[0.00,0.00,0.00,3.96,3.11,0.00,0.00,0.00,0.00,0.00,0.08,6.82,3.12,0.00,0.00,0.00,0.00,0.00,1.68,7.59,0.16,0.00,0.00,0.00,0.00,0.00,5.39,3.88,0.84,4.80,0.00,0.00,0.00,1.26,8.26,2.27,2.19,8.34,0.75,0.00,0.00,1.34,5.90,6.66,6.74,8.09,1.68,0.00,0.00,0.00,0.00,0.00,0.00,6.83,2.53,0.00,0.00,0.00,0.00,0.00,0.00,2.61,0.58,0.00],\n",
    "[0.00,1.35,4.12,0.00,0.00,0.00,0.00,0.00,0.00,0.50,8.26,0.17,0.00,0.00,0.00,0.00,0.00,0.00,7.59,0.84,0.00,0.00,0.00,0.00,0.00,0.00,7.59,0.84,2.94,5.14,0.00,0.00,0.00,0.00,7.58,8.43,8.42,7.50,0.00,0.00,0.00,0.00,1.68,0.50,0.84,7.75,0.00,0.00,0.00,0.00,0.00,0.00,0.67,8.35,0.34,0.00,0.00,0.00,0.00,0.00,0.00,1.17,0.00,0.00],\n",
    "[0.00,1.35,4.63,0.00,0.00,0.00,0.00,0.00,0.00,0.42,7.84,0.75,0.00,0.34,0.00,0.00,0.00,0.00,7.58,0.84,0.00,6.31,3.62,0.00,0.00,0.00,7.75,3.88,3.37,5.97,7.67,0.58,0.00,0.00,4.63,5.05,5.05,5.05,7.84,2.10,0.00,0.00,0.00,0.00,0.00,0.00,5.56,2.94,0.00,0.00,0.00,0.00,0.00,0.00,4.47,3.96,0.00,0.00,0.00,0.00,0.00,0.00,4.55,4.21]\n",
    "]\n",
    "\n",
    "and 7,1,0,0 = [\n",
    "[0.00,0.00,0.00,0.00,0.00,0.00,0.00,0.00,0.00,0.00,4.71,0.92,0.00,0.00,0.00,0.00,0.00,0.00,4.54,6.06,0.00,0.00,0.00,0.00,0.00,0.00,0.42,7.92,0.92,0.00,0.00,0.00,0.00,0.00,0.00,6.49,2.19,0.00,0.00,0.00,0.00,0.00,0.00,5.90,2.53,0.00,0.00,0.00,0.00,0.00,0.00,3.12,1.09,0.00,0.00,0.00,0.00,0.00,0.00,0.00,0.00,0.00,0.00,0.00],\n",
    "[0.00,0.00,0.00,0.00,0.00,0.00,0.00,0.00,0.00,0.00,0.00,0.00,0.00,0.00,0.00,0.00,0.25,5.39,4.80,2.95,0.25,0.00,0.00,0.00,0.34,4.97,3.71,6.07,7.84,2.85,0.00,0.00,0.00,0.00,0.00,0.00,3.52,6.32,0.00,0.00,0.00,0.00,0.00,0.00,6.98,7.59,0.93,0.00,0.00,0.00,0.00,0.00,4.46,1.93,0.08,0.00,0.00,0.00,0.00,0.00,0.00,0.00,0.00,0.00],\n",
    "[0.00,0.00,0.00,0.84,0.17,0.00,0.00,0.00,2.10,6.24,7.84,7.59,8.10,6.66,3.79,0.33,3.12,2.69,0.92,0.00,0.17,1.94,6.41,3.87,0.00,0.00,0.00,0.00,0.00,0.58,6.90,3.28,0.00,0.00,0.00,0.00,0.00,5.21,6.82,0.08,0.00,0.00,2.19,0.42,2.78,7.59,2.77,0.00,0.00,0.00,5.21,8.09,7.08,2.10,0.00,0.00,0.00,0.00,0.08,0.84,0.00,0.00,0.00,0.00],\n",
    "[0.00,0.00,0.00,2.11,1.26,0.00,0.00,0.00,0.00,0.00,0.08,6.56,3.03,0.00,0.00,0.00,0.00,0.00,2.77,7.24,0.25,5.89,0.17,0.00,0.00,0.00,2.01,7.25,7.50,8.43,1.26,0.00,0.00,0.00,0.00,0.00,1.09,6.49,2.27,0.00,0.00,0.00,0.00,0.00,0.00,4.55,4.21,0.00,0.00,0.00,0.00,0.00,0.00,2.86,5.56,0.00,0.00,0.00,0.00,0.00,0.00,1.26,7.75,0.00]\n",
    "]"
   ]
  },
  {
   "cell_type": "code",
   "execution_count": 57,
   "id": "58ff1bb8",
   "metadata": {},
   "outputs": [
    {
     "name": "stdout",
     "output_type": "stream",
     "text": [
      "1\n",
      "9\n",
      "5\n",
      "1\n",
      "----\n",
      "7\n",
      "1\n",
      "0\n",
      "9\n"
     ]
    }
   ],
   "source": [
    "new_sample_1 = np.array([\n",
    "[0.00,0.00,0.00,0.00,0.00,0.00,0.00,0.00,0.00,0.00,0.00,0.00,0.00,0.00,0.00,0.00,0.00,0.00,0.00,3.11,1.09,0.00,0.00,0.00,0.00,0.00,0.00,7.08,1.77,0.00,0.00,0.00,0.00,0.00,3.19,7.92,3.37,5.39,0.00,0.00,0.00,0.00,1.68,4.55,6.99,7.16,0.00,0.00,0.00,0.00,0.00,0.00,1.68,6.74,0.00,0.00,0.00,0.00,0.00,0.00,1.51,7.75,0.00,0.00],\n",
    "[0.00,0.00,1.01,0.00,0.00,0.00,0.00,0.00,0.00,0.00,7.50,0.76,0.00,0.84,0.16,0.00,0.00,0.00,6.58,1.94,0.08,7.00,2.44,0.00,0.00,0.00,4.89,4.71,5.29,8.00,0.58,0.00,0.00,0.00,2.10,6.57,5.89,7.59,0.00,0.00,0.00,0.00,0.00,0.00,0.84,7.67,0.00,0.00,0.00,0.00,0.00,0.00,0.25,5.90,0.00,0.00,0.00,0.00,0.00,0.00,0.00,0.00,0.00,0.00],\n",
    "[0.00,0.00,0.00,0.00,0.00,0.00,0.00,0.00,0.00,0.00,3.63,2.28,0.00,0.00,0.00,0.00,0.00,0.00,4.47,4.13,0.00,0.00,0.00,0.00,0.00,0.00,2.86,5.56,0.00,0.00,0.00,0.00,0.00,0.00,2.10,6.40,0.00,0.00,0.00,0.00,0.00,0.00,1.68,6.74,0.00,0.00,0.00,0.00,0.00,0.00,1.68,7.93,2.53,0.00,0.00,0.00,0.00,0.00,0.17,2.44,0.84,0.00,0.00,0.00],\n",
    "[0.00,0.00,0.00,0.00,0.00,0.00,0.00,0.00,0.00,0.00,0.00,2.27,6.75,6.15,4.22,1.85,0.00,0.00,0.84,4.63,7.67,8.01,6.74,7.25,0.00,0.00,2.95,5.73,3.62,6.24,4.05,0.17,0.00,0.00,0.00,0.00,0.84,7.76,1.26,0.00,0.00,0.00,0.00,0.25,6.24,4.22,0.00,0.00,0.00,0.00,0.08,5.90,7.49,5.47,1.35,0.00,0.00,0.00,5.47,8.44,7.00,4.21,0.42,0.00]\n",
    "])\n",
    "new_sample_2 = np.array([\n",
    "[0.00,0.00,0.00,0.00,0.00,0.00,0.00,0.00,0.00,0.00,4.71,0.92,0.00,0.00,0.00,0.00,0.00,0.00,4.54,6.06,0.00,0.00,0.00,0.00,0.00,0.00,0.42,7.92,0.92,0.00,0.00,0.00,0.00,0.00,0.00,6.49,2.19,0.00,0.00,0.00,0.00,0.00,0.00,5.90,2.53,0.00,0.00,0.00,0.00,0.00,0.00,3.12,1.09,0.00,0.00,0.00,0.00,0.00,0.00,0.00,0.00,0.00,0.00,0.00],\n",
    "[0.00,0.00,0.00,0.00,0.00,0.00,0.00,0.00,0.00,0.00,0.00,0.00,0.00,0.00,0.00,0.00,0.25,5.39,4.80,2.95,0.25,0.00,0.00,0.00,0.34,4.97,3.71,6.07,7.84,2.85,0.00,0.00,0.00,0.00,0.00,0.00,3.52,6.32,0.00,0.00,0.00,0.00,0.00,0.00,6.98,7.59,0.93,0.00,0.00,0.00,0.00,0.00,4.46,1.93,0.08,0.00,0.00,0.00,0.00,0.00,0.00,0.00,0.00,0.00],\n",
    "[0.00,0.00,0.00,0.84,0.17,0.00,0.00,0.00,2.10,6.24,7.84,7.59,8.10,6.66,3.79,0.33,3.12,2.69,0.92,0.00,0.17,1.94,6.41,3.87,0.00,0.00,0.00,0.00,0.00,0.58,6.90,3.28,0.00,0.00,0.00,0.00,0.00,5.21,6.82,0.08,0.00,0.00,2.19,0.42,2.78,7.59,2.77,0.00,0.00,0.00,5.21,8.09,7.08,2.10,0.00,0.00,0.00,0.00,0.08,0.84,0.00,0.00,0.00,0.00],\n",
    "[0.00,0.00,0.00,2.11,1.26,0.00,0.00,0.00,0.00,0.00,0.08,6.56,3.03,0.00,0.00,0.00,0.00,0.00,2.77,7.24,0.25,5.89,0.17,0.00,0.00,0.00,2.01,7.25,7.50,8.43,1.26,0.00,0.00,0.00,0.00,0.00,1.09,6.49,2.27,0.00,0.00,0.00,0.00,0.00,0.00,4.55,4.21,0.00,0.00,0.00,0.00,0.00,0.00,2.86,5.56,0.00,0.00,0.00,0.00,0.00,0.00,1.26,7.75,0.00]\n",
    "])\n",
    "new_label_1 = model.predict(new_sample_1)\n",
    "new_label_2 = model.predict(new_sample_2)\n",
    "def map_label(label):\n",
    "    for i in range(len(label)):\n",
    "      if label[i] == 0:\n",
    "        print(8)\n",
    "      elif label[i] == 1:\n",
    "        print(4)\n",
    "      elif label[i] == 2:\n",
    "        print(0)\n",
    "      elif label[i] == 3:\n",
    "        print(6)\n",
    "      elif label[i] == 4:\n",
    "        print(9)\n",
    "      elif label[i] == 5:\n",
    "        print(3)\n",
    "      elif label[i] == 6:\n",
    "        print(2)\n",
    "      elif label[i] == 7:\n",
    "        print(1)\n",
    "      elif label[i] == 8:\n",
    "        print(5)\n",
    "      elif label[i] == 9:\n",
    "        print(7)\n",
    "map_label(new_label_1) \n",
    "print('----')\n",
    "map_label(new_label_2)        "
   ]
  },
  {
   "cell_type": "markdown",
   "id": "1c2c8b02",
   "metadata": {},
   "source": [
    "Remember, this model is trained on handwritten digits of 30 Turkish people (from the 1990’s).\n",
    "So, its accuracy is not 100% but it still recognizing our handwriting."
   ]
  }
 ],
 "metadata": {
  "kernelspec": {
   "display_name": "Python 3",
   "language": "python",
   "name": "python3"
  },
  "language_info": {
   "codemirror_mode": {
    "name": "ipython",
    "version": 3
   },
   "file_extension": ".py",
   "mimetype": "text/x-python",
   "name": "python",
   "nbconvert_exporter": "python",
   "pygments_lexer": "ipython3",
   "version": "3.8.8"
  }
 },
 "nbformat": 4,
 "nbformat_minor": 5
}
